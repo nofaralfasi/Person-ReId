{
 "cells": [
  {
   "cell_type": "code",
   "execution_count": 1,
   "metadata": {},
   "outputs": [
    {
     "name": "stdout",
     "output_type": "stream",
     "text": [
      "Requirement already satisfied: Pillow in c:\\users\\hp\\anaconda3\\lib\\site-packages (7.0.0)"
     ]
    },
    {
     "name": "stdout",
     "output_type": "stream",
     "text": [
      "\n"
     ]
    }
   ],
   "source": [
    "import pip\n",
    "\n",
    "!pip install Pillow"
   ]
  },
  {
   "cell_type": "code",
   "execution_count": 2,
   "metadata": {},
   "outputs": [],
   "source": [
    "\"\"\"\n",
    "pip install opencv-contrib-python==3.4.2.16\n",
    "\"\"\"\n",
    "import base64\n",
    "import json\n",
    "import pprint\n",
    "import cv2\n",
    "import numpy as np\n",
    "from finalProject.classes.yolo import Yolo\n",
    "from finalProject.utils.drawing.draw import draw_final_results\n",
    "from finalProject.utils.images.imagesUtils import Image\n",
    "from finalProject.utils.keyPoints.AlgoritamKeyPoints import create_keypoints_descriptors, sift_keypoints_detection\n",
    "from finalProject.utils.matchers.Matchers import compare_between_descriptors, flann_matcher\n",
    "from finalProject.utils.preprocessing.preprocess import read_frames_from_video, check_frames_exist, reduce_noise, removeRemovalColor\n",
    "from finalProject.utils.tracking.TrackingByYolo import source_detection_by_yolo, tracking_by_yolo\n",
    "import matplotlib.pyplot as plt\n",
    "import random\n",
    "import pandas as pd\n",
    "import io\n",
    "from PIL import Image\n",
    "import os\n",
    "\n",
    "\n",
    "def sobel(img):\n",
    "    sobelx = cv2.Sobel(img, cv2.CV_64F, 1, 0, ksize=5)\n",
    "    sobely = cv2.Sobel(img, cv2.CV_64F, 0, 1, ksize=5)\n",
    "    sobel_intensity = cv2.sqrt(cv2.addWeighted(cv2.pow(sobelx, 2.0), 1.0, cv2.pow(sobely, 2.0), 1.0, 0.0))\n",
    "    return sobel_intensity\n",
    "\n",
    "\n",
    "def sobel_keypoints(image):\n",
    "    sobelImage = sobel(image)\n",
    "    # norm\n",
    "    image8bit = cv2.normalize(sobelImage, None, 0, 255, cv2.NORM_MINMAX).astype('uint8')\n",
    "    kp, des = sift_keypoints_detection(image8bit)\n",
    "    return kp, des, image8bit\n",
    "\n",
    "\n",
    "def forward(frames):\n",
    "    outputs = []\n",
    "    for frame in frames:\n",
    "        frame.gray_image = sobel(frame.gray_image)\n",
    "        key_des_image = sobel_keypoints(frame.gray_image)\n",
    "        outputs.append(key_des_image)\n",
    "    return outputs\n",
    "\n",
    "\n",
    "def saveImage(image, folder_name, image_name):\n",
    "    path = \"./reports/\"+str(folder_name)+\"/\"+image_name+\".png\"\n",
    "    cv2.imwrite(path, image)\n",
    "\n",
    "\n",
    "def convert(folder_name, counter):\n",
    "    def convertImagetoIds(output, counter):\n",
    "        saveImage(output[0], folder_name,\"comparison_\"+counter)\n",
    "        saveImage(output[1], folder_name,\"source_\"+counter)\n",
    "        saveImage(output[2], folder_name,\"target_\"+counter)\n",
    "        return output[3:]\n",
    "    return convertImagetoIds\n",
    "\n",
    "\n",
    "def exportToExcel(outputs):\n",
    "    rand = random.uniform(0, 1)  # random folder number\n",
    "    folder_name = \"folderReport_\"+str(rand)\n",
    "    path = \"./reports/\"+folder_name\n",
    "    os.makedirs(path, mode=0o777, exist_ok=False)\n",
    "\n",
    "    counts = []\n",
    "    for i, v in enumerate(outputs):\n",
    "        counts.append(str(i))\n",
    "\n",
    "    excel_table = list(map(convert(folder_name, str(i)), outputs, counts))\n",
    "    df2 = pd.DataFrame(np.array(excel_table),\n",
    "                       columns=['source_keypoints', 'target_keypoints', 'total_matches', 'accuracy'])\n",
    "    df2.to_excel(\"./reports/\" + folder_name + \"/report_\" + folder_name + \".xls\")\n",
    "\n",
    "\n",
    "def cross_correction(key_des_image_source, key_des_image_target, threshold=0.8):\n",
    "    (k1, d1, source_img) = key_des_image_source\n",
    "    (k2, d2, target_img) = key_des_image_target\n",
    "    match = flann_matcher(d1, d2, threshold=threshold)\n",
    "\n",
    "    if len(match) == 0:\n",
    "        return None\n",
    "\n",
    "    output = cv2.drawMatchesKnn(source_img, k1, target_img, k2, match, outImg=None)\n",
    "    acc = int((len(match)/len(k1))*100)\n",
    "    acc = min(acc, 100)\n",
    "    return [output, source_img, target_img, len(k1), len(k2), len(match), str(acc) + \"%\"]  # item = (outputs,source_img,target_img,len(k1),len(k2),acc..)\n",
    "\n",
    "\n",
    "def sort_by_acc_func(output_row):\n",
    "    return output_row[6]\n",
    "\n",
    "\n",
    "def save_people_frames(source_person, target_people):\n",
    "    path = \"./reports/\"+str(folder_name)+\"/\"+image_name+\".png\"\n",
    "    cv2.imwrite(path, image)\n",
    "\n",
    "\n",
    "def plotSquare(images, _titles, threshold, each_column=10):\n",
    "    number_images = len(images)\n",
    "    rows = (number_images // each_column)\n",
    "    index = 1\n",
    "\n",
    "    print(rows)\n",
    "    fig, axes = plt.subplots(rows, each_column, figsize=(48, 24),dpi=300)\n",
    "    fig.subplots_adjust(hspace=0.3, wspace=0.05)\n",
    "\n",
    "    for ax,image,title in zip(axes.flat, images, _titles):\n",
    "        ax.imshow(image)\n",
    "        ax.set_title(title)\n",
    "        index += 1\n",
    "\n",
    "    rand = random.uniform(0, 1)\n",
    "    pathX = \"./figures/fig_test\"+str(rand)+\"_thresh_\"+str(threshold)+\".svg\"\n",
    "    print(\"saving on\", pathX)\n",
    "    plt.savefig(pathX, dpi=fig.dpi)\n",
    "    plt.clf()\n",
    "    plt.close()"
   ]
  },
  {
   "cell_type": "code",
   "execution_count": 3,
   "metadata": {},
   "outputs": [
    {
     "name": "stdout",
     "output_type": "stream",
     "text": [
      "[INFO] loading YOLO from disk...\n"
     ]
    }
   ],
   "source": [
    "# init yolo\n",
    "yolo = Yolo()\n",
    "yolo.initYolo()\n",
    "pp = pprint.PrettyPrinter(indent=4)\n"
   ]
  },
  {
   "cell_type": "code",
   "execution_count": 4,
   "metadata": {},
   "outputs": [],
   "source": [
    "def run(threshold=0.8):\n",
    "\n",
    "    with open('./config.txt') as file_json:\n",
    "        config = json.load(file_json)\n",
    "\n",
    "        # compute_runtime = config[\"output\"][\"runtime\"]\n",
    "            \n",
    "        # source\n",
    "        source_frames = read_frames_from_video(config[\"source\"])\n",
    "        if not check_frames_exist(source_frames):\n",
    "            print(\"problem with the input of source video.\")\n",
    "            exit(0)\n",
    "\n",
    "        source_person = source_detection_by_yolo(source_frames, yolo,\n",
    "                                                 is_video=config[\"source\"][\"isVideo\"],\n",
    "                                                 config=config[\"source\"])\n",
    "        if source_person is None:\n",
    "            print(\"failed to detect a person on source video\")\n",
    "            exit(0)\n",
    "\n",
    "        # target\n",
    "        target_frames = read_frames_from_video(config[\"target\"])\n",
    "        if not check_frames_exist(target_frames):\n",
    "            print(\"problem with the input of target video.\")\n",
    "            exit(0)\n",
    "\n",
    "        target_people = tracking_by_yolo(target_frames, yolo, is_video=config[\"target\"][\"isVideo\"],config=config[\"target\"])\n",
    "\n",
    "        cv2.destroyAllWindows()\n",
    "\n",
    "        # source\n",
    "        sources_output = forward(source_person.frames)  # array of (key,des,image) of all source's frames\n",
    "        \n",
    "        targets_outputs = []  # array of targets , each target has an array of frames\n",
    "        for target_person in target_people:\n",
    "            target_output = forward(target_person.frames)  # array of (key,des,image) of all target_person's frames\n",
    "            targets_outputs.append(target_output)\n",
    "\n",
    "        outputs = []  # each frame\n",
    "\n",
    "        for source_frame in sources_output:\n",
    "            for target in targets_outputs:\n",
    "                for target_frame in target:  # threshold for match ! bigger - more lines\n",
    "                    cross = cross_correction(source_frame, target_frame, threshold)\n",
    "                    if cross is not None:\n",
    "                        outputs.append(cross)\n",
    "\n",
    "        outputs.sort(reverse=True, key=sort_by_acc_func)\n",
    "        exportToExcel(outputs[:10])\n",
    "        # save_people_frames(source_person, target_people)\n",
    "\n",
    "#         titles = [\"test\"] * (len(plots) - 1)\n",
    "#         plotSquare(plots, titles,threshold)\n",
    "#         print(\"finish\")"
   ]
  },
  {
   "cell_type": "code",
   "execution_count": 5,
   "metadata": {},
   "outputs": [
    {
     "ename": "NameError",
     "evalue": "name 'folder_name' is not defined",
     "traceback": [
      "\u001b[1;31m---------------------------------------------------------------------------\u001b[0m",
      "\u001b[1;31mNameError\u001b[0m                                 Traceback (most recent call last)",
      "\u001b[1;32m<ipython-input-5-b2b2b61098ca>\u001b[0m in \u001b[0;36m<module>\u001b[1;34m\u001b[0m\n\u001b[0;32m      1\u001b[0m \u001b[1;32mfor\u001b[0m \u001b[0mthresh\u001b[0m \u001b[1;32min\u001b[0m \u001b[1;33m[\u001b[0m\u001b[1;36m0.8\u001b[0m\u001b[1;33m]\u001b[0m\u001b[1;33m:\u001b[0m\u001b[1;33m\u001b[0m\u001b[0m\n\u001b[1;32m----> 2\u001b[1;33m     \u001b[0mrun\u001b[0m\u001b[1;33m(\u001b[0m\u001b[0mthreshold\u001b[0m\u001b[1;33m=\u001b[0m\u001b[0mthresh\u001b[0m\u001b[1;33m)\u001b[0m\u001b[1;33m\u001b[0m\u001b[0m\n\u001b[0m",
      "\u001b[1;32m<ipython-input-4-f251645fb7ad>\u001b[0m in \u001b[0;36mrun\u001b[1;34m(threshold)\u001b[0m\n\u001b[0;32m     46\u001b[0m         \u001b[0moutputs\u001b[0m\u001b[1;33m.\u001b[0m\u001b[0msort\u001b[0m\u001b[1;33m(\u001b[0m\u001b[0mreverse\u001b[0m\u001b[1;33m=\u001b[0m\u001b[1;32mTrue\u001b[0m\u001b[1;33m,\u001b[0m \u001b[0mkey\u001b[0m\u001b[1;33m=\u001b[0m\u001b[0msort_by_acc_func\u001b[0m\u001b[1;33m)\u001b[0m\u001b[1;33m\u001b[0m\u001b[0m\n\u001b[0;32m     47\u001b[0m         \u001b[0mexportToExcel\u001b[0m\u001b[1;33m(\u001b[0m\u001b[0moutputs\u001b[0m\u001b[1;33m[\u001b[0m\u001b[1;33m:\u001b[0m\u001b[1;36m5\u001b[0m\u001b[1;33m]\u001b[0m\u001b[1;33m)\u001b[0m\u001b[1;33m\u001b[0m\u001b[0m\n\u001b[1;32m---> 48\u001b[1;33m         \u001b[0msave_people_frames\u001b[0m\u001b[1;33m(\u001b[0m\u001b[0msource_person\u001b[0m\u001b[1;33m,\u001b[0m \u001b[0mtarget_people\u001b[0m\u001b[1;33m)\u001b[0m\u001b[1;33m\u001b[0m\u001b[0m\n\u001b[0m\u001b[0;32m     49\u001b[0m \u001b[1;33m\u001b[0m\u001b[0m\n\u001b[0;32m     50\u001b[0m \u001b[1;31m#         titles = [\"test\"] * (len(plots) - 1)\u001b[0m\u001b[1;33m\u001b[0m\u001b[1;33m\u001b[0m\u001b[0m\n",
      "\u001b[1;32m<ipython-input-2-ae8aa3cd9066>\u001b[0m in \u001b[0;36msave_people_frames\u001b[1;34m(source_person, target_people)\u001b[0m\n\u001b[0;32m     95\u001b[0m \u001b[1;33m\u001b[0m\u001b[0m\n\u001b[0;32m     96\u001b[0m \u001b[1;32mdef\u001b[0m \u001b[0msave_people_frames\u001b[0m\u001b[1;33m(\u001b[0m\u001b[0msource_person\u001b[0m\u001b[1;33m,\u001b[0m \u001b[0mtarget_people\u001b[0m\u001b[1;33m)\u001b[0m\u001b[1;33m:\u001b[0m\u001b[1;33m\u001b[0m\u001b[0m\n\u001b[1;32m---> 97\u001b[1;33m     \u001b[0mpath\u001b[0m \u001b[1;33m=\u001b[0m \u001b[1;34m\"./reports/\"\u001b[0m\u001b[1;33m+\u001b[0m\u001b[0mstr\u001b[0m\u001b[1;33m(\u001b[0m\u001b[0mfolder_name\u001b[0m\u001b[1;33m)\u001b[0m\u001b[1;33m+\u001b[0m\u001b[1;34m\"/\"\u001b[0m\u001b[1;33m+\u001b[0m\u001b[0mimage_name\u001b[0m\u001b[1;33m+\u001b[0m\u001b[1;34m\".png\"\u001b[0m\u001b[1;33m\u001b[0m\u001b[0m\n\u001b[0m\u001b[0;32m     98\u001b[0m     \u001b[0mcv2\u001b[0m\u001b[1;33m.\u001b[0m\u001b[0mimwrite\u001b[0m\u001b[1;33m(\u001b[0m\u001b[0mpath\u001b[0m\u001b[1;33m,\u001b[0m \u001b[0mimage\u001b[0m\u001b[1;33m)\u001b[0m\u001b[1;33m\u001b[0m\u001b[0m\n\u001b[0;32m     99\u001b[0m \u001b[1;33m\u001b[0m\u001b[0m\n",
      "\u001b[1;31mNameError\u001b[0m: name 'folder_name' is not defined"
     ],
     "output_type": "error"
    }
   ],
   "source": [
    "for thresh in [0.8]:\n",
    "    run(threshold=thresh)\n"
   ]
  },
  {
   "cell_type": "code",
   "execution_count": 6,
   "metadata": {},
   "outputs": [],
   "source": []
  },
  {
   "cell_type": "code",
   "execution_count": 13,
   "metadata": {},
   "outputs": [],
   "source": []
  }
 ],
 "metadata": {
  "kernelspec": {
   "display_name": "Python 3",
   "language": "python",
   "name": "python3"
  },
  "language_info": {
   "codemirror_mode": {
    "name": "ipython",
    "version": 3
   },
   "file_extension": ".py",
   "mimetype": "text/x-python",
   "name": "python",
   "nbconvert_exporter": "python",
   "pygments_lexer": "ipython3",
   "version": "3.6.3"
  }
 },
 "nbformat": 4,
 "nbformat_minor": 2
}
